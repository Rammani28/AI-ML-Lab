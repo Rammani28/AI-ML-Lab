{
  "nbformat": 4,
  "nbformat_minor": 0,
  "metadata": {
    "colab": {
      "provenance": [],
      "authorship_tag": "ABX9TyPp+w/90/DiPer1DVLyoceP",
      "include_colab_link": true
    },
    "kernelspec": {
      "name": "python3",
      "display_name": "Python 3"
    },
    "language_info": {
      "name": "python"
    }
  },
  "cells": [
    {
      "cell_type": "markdown",
      "metadata": {
        "id": "view-in-github",
        "colab_type": "text"
      },
      "source": [
        "<a href=\"https://colab.research.google.com/github/Rammani28/AI-ML-Lab/blob/main/python_practice_ai.ipynb\" target=\"_parent\"><img src=\"https://colab.research.google.com/assets/colab-badge.svg\" alt=\"Open In Colab\"/></a>"
      ]
    },
    {
      "cell_type": "markdown",
      "source": [
        "1. prime number in range"
      ],
      "metadata": {
        "id": "7BjmrZXoFgwx"
      }
    },
    {
      "cell_type": "code",
      "source": [
        "def is_prime(num):\n",
        "    if num <= 1:\n",
        "        return False\n",
        "    for i in range(2, num-1):\n",
        "        if num % i == 0:\n",
        "            return False\n",
        "    return True\n",
        "\n",
        "def find_primes_in_range(start, end):\n",
        "    primes = []\n",
        "    for num in range(start, end + 1):\n",
        "        if is_prime(num):\n",
        "            primes.append(num)\n",
        "    return primes\n",
        "\n",
        "start_range = 10\n",
        "end_range = 50\n",
        "prime_numbers = find_primes_in_range(start_range, end_range)\n",
        "print(f\"Prime numbers between {start_range} and {end_range}: {prime_numbers}\")\n"
      ],
      "metadata": {
        "colab": {
          "base_uri": "https://localhost:8080/"
        },
        "id": "VBeWAFpbFj80",
        "outputId": "0392b31f-4b4e-42cf-df2e-b4464fd256c0"
      },
      "execution_count": 2,
      "outputs": [
        {
          "output_type": "stream",
          "name": "stdout",
          "text": [
            "Prime numbers between 10 and 50: [11, 13, 17, 19, 23, 29, 31, 37, 41, 43, 47]\n"
          ]
        }
      ]
    },
    {
      "cell_type": "markdown",
      "source": [
        "2, string palindrome"
      ],
      "metadata": {
        "id": "1HPyXEy3GAOV"
      }
    },
    {
      "cell_type": "code",
      "source": [
        "def is_palindrome(s):\n",
        "    s = s.lower().replace(\" \", \"\")  # remove space\n",
        "    return s == s[::-1]\n",
        "\n",
        "# Example usage:\n",
        "string = \"a rotator a\"\n",
        "print(f\"'{string}' is a palindrome: {is_palindrome(string)}\")\n",
        "\n",
        "string = \"apple\"\n",
        "print(f\"'{string}' is a palindrome: {is_palindrome(string)}\")\n"
      ],
      "metadata": {
        "colab": {
          "base_uri": "https://localhost:8080/"
        },
        "id": "mcHPOqdoGGtj",
        "outputId": "614cd95d-cb7a-45c1-979d-6d6060773a75"
      },
      "execution_count": 3,
      "outputs": [
        {
          "output_type": "stream",
          "name": "stdout",
          "text": [
            "'a rotator a' is a palindrome: True\n",
            "'apple' is a palindrome: False\n"
          ]
        }
      ]
    },
    {
      "cell_type": "markdown",
      "source": [
        "3. fibonacci"
      ],
      "metadata": {
        "id": "eCZvjUB2Gjin"
      }
    },
    {
      "cell_type": "code",
      "source": [
        "def generate_fibonacci(n):\n",
        "    fib_sequence = [0, 1]\n",
        "    for i in range(2, n):\n",
        "        fib_sequence.append(fib_sequence[-1] + fib_sequence[-2])\n",
        "    return fib_sequence[:n]\n",
        "\n",
        "# Example usage:\n",
        "num_terms = 10\n",
        "fibonacci_sequence = generate_fibonacci(num_terms)\n",
        "print(f\"First {num_terms} terms of the Fibonacci sequence: {fibonacci_sequence}\")\n"
      ],
      "metadata": {
        "colab": {
          "base_uri": "https://localhost:8080/"
        },
        "id": "TWjj1Jm0GnSz",
        "outputId": "91c55e10-92aa-4cb6-ff38-6927954d7027"
      },
      "execution_count": 4,
      "outputs": [
        {
          "output_type": "stream",
          "name": "stdout",
          "text": [
            "First 10 terms of the Fibonacci sequence: [0, 1, 1, 2, 3, 5, 8, 13, 21, 34]\n"
          ]
        }
      ]
    },
    {
      "cell_type": "markdown",
      "source": [
        "number guessing game"
      ],
      "metadata": {
        "id": "KnOKMoU6GxCO"
      }
    },
    {
      "cell_type": "code",
      "source": [
        "import random\n",
        "\n",
        "def number_guessing_game():\n",
        "    number_to_guess = random.randint(1, 100)\n",
        "    guess = None\n",
        "\n",
        "    while guess != number_to_guess:\n",
        "        guess = int(input(\"Guess a number between 1 and 100: \"))\n",
        "\n",
        "        if guess < number_to_guess:\n",
        "            print(\"Too low! Try again.\")\n",
        "        elif guess > number_to_guess:\n",
        "            print(\"Too high! Try again.\")\n",
        "        else:\n",
        "            print(\"Congratulations! You guessed the correct number.\")\n",
        "\n",
        "# Start the game\n",
        "number_guessing_game()\n"
      ],
      "metadata": {
        "colab": {
          "base_uri": "https://localhost:8080/"
        },
        "id": "icG3WlXwGziN",
        "outputId": "09bde650-27f4-4f76-c825-425b304eeb9f"
      },
      "execution_count": 6,
      "outputs": [
        {
          "output_type": "stream",
          "name": "stdout",
          "text": [
            "Guess a number between 1 and 100: 77\n",
            "Too high! Try again.\n",
            "Guess a number between 1 and 100: 20\n",
            "Too low! Try again.\n",
            "Guess a number between 1 and 100: 50\n",
            "Too high! Try again.\n",
            "Guess a number between 1 and 100: 40\n",
            "Too high! Try again.\n",
            "Guess a number between 1 and 100: 30\n",
            "Too high! Try again.\n",
            "Guess a number between 1 and 100: 25\n",
            "Too high! Try again.\n",
            "Guess a number between 1 and 100: 23\n",
            "Too high! Try again.\n",
            "Guess a number between 1 and 100: 22\n",
            "Too high! Try again.\n",
            "Guess a number between 1 and 100: 21\n",
            "Congratulations! You guessed the correct number.\n"
          ]
        }
      ]
    }
  ]
}